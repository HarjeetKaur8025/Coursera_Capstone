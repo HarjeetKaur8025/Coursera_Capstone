{
 "cells": [
  {
   "cell_type": "markdown",
   "metadata": {
    "collapsed": true
   },
   "source": [
    "# Project Title:  "
   ]
  },
  {
   "cell_type": "markdown",
   "metadata": {},
   "source": [
    "## Washington District of Columbia Neighborhood Exploration, Segmentation and Clustering using unsupervised machine learning K-Means! - HK"
   ]
  },
  {
   "cell_type": "markdown",
   "metadata": {},
   "source": [
    "## Introduction/Business Problem"
   ]
  },
  {
   "cell_type": "markdown",
   "metadata": {},
   "source": [
    "Washington, DC, the U.S. capital, is a compact city on the Potomac River, bordering the states of Maryland and Virginia. It’s defined by imposing neoclassical monuments and buildings – including the iconic ones that house the federal government’s 3 branches: the Capitol, White House and Supreme Court. It's also home to iconic museums and performing-arts venues such as the Kennedy Center. It also have US Border Patrol and U.S. Customs & Border Protection"
   ]
  },
  {
   "cell_type": "markdown",
   "metadata": {},
   "source": [
    "In this Project, I am working on if someone is looking to open a restaurant, what should they open and where should they open it? Since its a Capital of United States and a spot for goverment staff for meetings and tourists whether they come to see museaums, arts center, white house or for business meetings. Due to extreme busy and fast pace atmostphere in District of Columbia, there is always a need for cafe/coffee shops/restuarants or Sandwich Place to meet the need for thousands of visitors along with its locals every day."
   ]
  },
  {
   "cell_type": "markdown",
   "metadata": {},
   "source": [
    "## Audience"
   ]
  },
  {
   "cell_type": "markdown",
   "metadata": {},
   "source": [
    "Any Business person who wants to open a cafe/coffee shop/restaurant or Sandwich Place."
   ]
  },
  {
   "cell_type": "markdown",
   "metadata": {},
   "source": [
    "## Data section"
   ]
  },
  {
   "cell_type": "markdown",
   "metadata": {},
   "source": [
    "For this Project, I imported all the libraries and packages (numpy, panda, types, geocoder, matplotlib, folium, K-means, lxml, html5lib, bs4 )required for python coding in the Jupyter Notebook.  I took the data from 'https://opendata.dc.gov/datasets/neighborhood-labels/data'. Wherein, I received the dataframe with an index and 8 columns (X,Y,OBJECTID,GIS_ID,NAME,WEB_URL,LABEL_NAME,DATELASTMODIFIED). Data Wrangling was performed to drop unneccasry columns. Since we are exploring, segmenting and clustering neighborhood so we only needed neighborhood name , their latitude and longtitude value and I used drop function to remove all the other columns mentioned above.  Then I renamed the columns 'X' and 'Y' as 'Latitude' and 'Longitude' and name as 'Neighborhood'. I proceeded with rearrange the columns in their order As Neighborhood Latitude and Longitude to perform analysis.  I checked the dataframe data, its types using dtype function and its shape  using shape().  Followed upon that I looked for statistical values of the dataframe using info function with the original dataframe.   "
   ]
  },
  {
   "cell_type": "markdown",
   "metadata": {},
   "source": [
    "Total of 132 Neighborhood showed up with their Latitude and Longitude after all the pre-processing. Geograpical coordinates were collected for the city to visualize map using Folium. Foursquare API is being used to further processing with segmentation. In the Methodology section I would share how I worked on segmentation (Explore Neighborhoods, Analyze Neighborhoods, Examine Neighborhoods) and clustering (Cluster Neighborhood)."
   ]
  },
  {
   "cell_type": "code",
   "execution_count": null,
   "metadata": {},
   "outputs": [],
   "source": []
  }
 ],
 "metadata": {
  "kernelspec": {
   "display_name": "Python 3.7",
   "language": "python",
   "name": "python3"
  },
  "language_info": {
   "codemirror_mode": {
    "name": "ipython",
    "version": 3
   },
   "file_extension": ".py",
   "mimetype": "text/x-python",
   "name": "python",
   "nbconvert_exporter": "python",
   "pygments_lexer": "ipython3",
   "version": "3.7.9"
  }
 },
 "nbformat": 4,
 "nbformat_minor": 1
}
